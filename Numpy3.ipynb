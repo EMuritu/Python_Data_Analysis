{
 "cells": [
  {
   "cell_type": "markdown",
   "metadata": {},
   "source": [
    "# Numpy Exercise 3\n",
    "\n",
    "### All of the questions in this exercise are attributed to rougier/numpy-100"
   ]
  },
  {
   "cell_type": "code",
   "execution_count": null,
   "metadata": {},
   "outputs": [],
   "source": []
  },
  {
   "cell_type": "markdown",
   "metadata": {},
   "source": [
    "#### 31. How to ignore all numpy warnings (not recommended)? (★☆☆)"
   ]
  },
  {
   "cell_type": "code",
   "execution_count": 2,
   "metadata": {},
   "outputs": [
    {
     "name": "stdout",
     "output_type": "stream",
     "text": [
      "nan\n",
      "nan\n"
     ]
    }
   ],
   "source": [
    "import numpy as np\n",
    "import warnings\n",
    "\n",
    "warnings.filterwarnings('ignore')\n",
    "\n",
    "print(np.array(0) / np.array(0))\n",
    "\n",
    "np.seterr(all='ignore')\n",
    "\n",
    "print(np.array(0) / np.array(0))  \n"
   ]
  },
  {
   "cell_type": "markdown",
   "metadata": {},
   "source": [
    "#### 32. Is the following expressions true? (★☆☆)\n",
    "```python\n",
    "np.sqrt(-1) == np.emath.sqrt(-1)\n",
    "```"
   ]
  },
  {
   "cell_type": "code",
   "execution_count": 9,
   "metadata": {},
   "outputs": [
    {
     "name": "stdout",
     "output_type": "stream",
     "text": [
      "False\n"
     ]
    }
   ],
   "source": [
    "print(np.sqrt(-1) == np.emath.sqrt(-1)) "
   ]
  },
  {
   "cell_type": "markdown",
   "metadata": {},
   "source": [
    "#### 33. How to get the dates of yesterday, today and tomorrow? (★☆☆)"
   ]
  },
  {
   "cell_type": "code",
   "execution_count": 7,
   "metadata": {},
   "outputs": [
    {
     "name": "stdout",
     "output_type": "stream",
     "text": [
      "Date array: ['2025-07-13' '2025-07-14' '2025-07-15']\n"
     ]
    }
   ],
   "source": [
    "import numpy as nump\n",
    "dates = np.array([yesterday, today, tomorrow])\n",
    "print(\"Date array:\", dates)"
   ]
  },
  {
   "cell_type": "markdown",
   "metadata": {},
   "source": [
    "#### 34. How to get all the dates corresponding to the month of July 2016? (★★☆)"
   ]
  },
  {
   "cell_type": "code",
   "execution_count": null,
   "metadata": {},
   "outputs": [
    {
     "name": "stdout",
     "output_type": "stream",
     "text": [
      "['2016-07-01' '2016-07-02' '2016-07-03' '2016-07-04' '2016-07-05'\n",
      " '2016-07-06' '2016-07-07' '2016-07-08' '2016-07-09' '2016-07-10'\n",
      " '2016-07-11' '2016-07-12' '2016-07-13' '2016-07-14' '2016-07-15'\n",
      " '2016-07-16' '2016-07-17' '2016-07-18' '2016-07-19' '2016-07-20'\n",
      " '2016-07-21' '2016-07-22' '2016-07-23' '2016-07-24' '2016-07-25'\n",
      " '2016-07-26' '2016-07-27' '2016-07-28' '2016-07-29' '2016-07-30'\n",
      " '2016-07-31']\n"
     ]
    }
   ],
   "source": [
    "start_date = np.datetime64('2016-07-01')\n",
    "end_date = np.datetime64('2016-08-01')  # First day of next month\n",
    "\n",
    "July_dates = np.arange(start_date, end_date, dtype='datetime64[D]')\n",
    "\n",
    "print(July_dates)"
   ]
  },
  {
   "cell_type": "markdown",
   "metadata": {},
   "source": [
    "#### 35. How to compute ((A+B)*(-A/2)) in place (without copy)? (★★☆)"
   ]
  },
  {
   "cell_type": "code",
   "execution_count": 10,
   "metadata": {},
   "outputs": [
    {
     "name": "stdout",
     "output_type": "stream",
     "text": [
      "[ -2.5  -7.  -13.5]\n"
     ]
    }
   ],
   "source": [
    "A = np.array([1, 2, 3], dtype=np.float64)\n",
    "B = np.array([4, 5, 6], dtype=np.float64)\n",
    "\n",
    "result = A + B  \n",
    "A /= -2         \n",
    "result *= A    \n",
    "\n",
    "print(result)"
   ]
  },
  {
   "cell_type": "markdown",
   "metadata": {},
   "source": [
    "#### 36. Extract the integer part of a random array of positive numbers using 4 different methods (★★☆)"
   ]
  },
  {
   "cell_type": "code",
   "execution_count": null,
   "metadata": {},
   "outputs": [
    {
     "name": "stdout",
     "output_type": "stream",
     "text": [
      "Original array: [37.45401188 95.07143064 73.19939418 59.86584842 15.60186404]\n",
      "\n",
      "Method 1 (trunc): [37. 95. 73. 59. 15.]\n",
      "Method 2 (astype): [37 95 73 59 15]\n",
      "Method 3 (floor): [37. 95. 73. 59. 15.]\n",
      "Method 4 (subtract): [37. 95. 73. 59. 15.]\n",
      "\n",
      "All methods equal? True\n"
     ]
    }
   ],
   "source": [
    "#Create random array\n",
    "np.random.seed(42)\n",
    "arr = np.random.uniform(0, 100, size=5)\n",
    "print(\"Original array:\", arr)\n",
    "\n",
    "# Method 1: np.trunc\n",
    "result1 = np.trunc(arr)\n",
    "\n",
    "# Method 2: astype(int)\n",
    "result2 = arr.astype(int)\n",
    "\n",
    "# Method 3: np.floor\n",
    "result3 = np.floor(arr)\n",
    "\n",
    "# Method 4: Subtraction method\n",
    "result4 = arr - (arr % 1)\n",
    "\n",
    "# Compare results\n",
    "print(\"\\nMethod 1 (trunc):\", result1)\n",
    "print(\"Method 2 (astype):\", result2)\n",
    "print(\"Method 3 (floor):\", result3)\n",
    "print(\"Method 4 (subtract):\", result4)\n",
    "\n",
    "print(\"\\nAll methods equal?\", \n",
    "      np.allclose(result1, result2) and \n",
    "      np.allclose(result1, result3) and \n",
    "      np.allclose(result1, result4))"
   ]
  },
  {
   "cell_type": "markdown",
   "metadata": {},
   "source": [
    "#### 37. Create a 5x5 matrix with row values ranging from 0 to 4 (★★☆)"
   ]
  },
  {
   "cell_type": "code",
   "execution_count": 12,
   "metadata": {},
   "outputs": [
    {
     "name": "stdout",
     "output_type": "stream",
     "text": [
      "[[0 1 2 3 4]\n",
      " [0 1 2 3 4]\n",
      " [0 1 2 3 4]\n",
      " [0 1 2 3 4]\n",
      " [0 1 2 3 4]]\n"
     ]
    }
   ],
   "source": [
    "matrix = np.array([np.arange(5) for _ in range(5)])\n",
    "print(matrix)"
   ]
  },
  {
   "cell_type": "markdown",
   "metadata": {},
   "source": [
    "#### 38. Consider a generator function that generates 10 integers and use it to build an array (★☆☆)"
   ]
  },
  {
   "cell_type": "code",
   "execution_count": 16,
   "metadata": {},
   "outputs": [
    {
     "name": "stdout",
     "output_type": "stream",
     "text": [
      "Random array: [62 74 86 42 29 87 89 63 68 33]\n"
     ]
    }
   ],
   "source": [
    "import random\n",
    "def generate_random_integers():\n",
    "    for _ in range(10):\n",
    "        yield random.randint(0, 100)\n",
    "\n",
    "arr = np.fromiter(generate_random_integers(), dtype=int)\n",
    "print(\"Random array:\", arr)\n"
   ]
  },
  {
   "cell_type": "markdown",
   "metadata": {},
   "source": [
    "#### 39. Create a vector of size 10 with values ranging from 0 to 1, both excluded (★★☆)"
   ]
  },
  {
   "cell_type": "code",
   "execution_count": 18,
   "metadata": {},
   "outputs": [
    {
     "name": "stdout",
     "output_type": "stream",
     "text": [
      "Random vector: [0.18340451 0.30424224 0.52475643 0.43194502 0.29122914 0.61185289\n",
      " 0.13949386 0.29214465 0.36636184 0.45606998]\n"
     ]
    }
   ],
   "source": [
    "vec = np.random.uniform(low=0.0, high=1.0, size=10)\n",
    "print(\"Random vector:\", vec)\n"
   ]
  },
  {
   "cell_type": "markdown",
   "metadata": {},
   "source": [
    "#### 40. Create a random vector of size 10 and sort it (★★☆)"
   ]
  },
  {
   "cell_type": "code",
   "execution_count": 19,
   "metadata": {},
   "outputs": [
    {
     "name": "stdout",
     "output_type": "stream",
     "text": [
      "Original random vector:\n",
      "[0.78517596 0.19967378 0.51423444 0.59241457 0.04645041 0.60754485\n",
      " 0.17052412 0.06505159 0.94888554 0.96563203]\n",
      "\n",
      "Sorted vector:\n",
      "[0.04645041 0.06505159 0.17052412 0.19967378 0.51423444 0.59241457\n",
      " 0.60754485 0.78517596 0.94888554 0.96563203]\n"
     ]
    }
   ],
   "source": [
    "random_vector = np.random.random(10)\n",
    "\n",
    "sorted_vector = np.sort(random_vector)\n",
    "\n",
    "print(\"Original random vector:\")\n",
    "print(random_vector)\n",
    "print(\"\\nSorted vector:\")\n",
    "print(sorted_vector)"
   ]
  },
  {
   "cell_type": "markdown",
   "metadata": {},
   "source": [
    "#### 41. How to sum a small array faster than np.sum? (★★☆)"
   ]
  },
  {
   "cell_type": "code",
   "execution_count": 24,
   "metadata": {},
   "outputs": [],
   "source": [
    "arr = np.array([1.0, 2.0, 3.0, 4.0])\n",
    "\n",
    "total = sum(arr)\n"
   ]
  },
  {
   "cell_type": "markdown",
   "metadata": {},
   "source": [
    "#### 42. Consider two random array A and B, check if they are equal (★★☆)"
   ]
  },
  {
   "cell_type": "code",
   "execution_count": 25,
   "metadata": {},
   "outputs": [
    {
     "name": "stdout",
     "output_type": "stream",
     "text": [
      "Arrays are exactly equal: False\n"
     ]
    }
   ],
   "source": [
    "A = np.random.rand(5)\n",
    "B = np.random.rand(5)\n",
    "\n",
    "equal = np.array_equal(A, B)\n",
    "print(\"Arrays are exactly equal:\", equal)"
   ]
  },
  {
   "cell_type": "markdown",
   "metadata": {},
   "source": [
    "#### 43. Make an array immutable (read-only) (★★☆)"
   ]
  },
  {
   "cell_type": "code",
   "execution_count": 26,
   "metadata": {},
   "outputs": [
    {
     "name": "stdout",
     "output_type": "stream",
     "text": [
      "Error: assignment destination is read-only\n"
     ]
    }
   ],
   "source": [
    "arr = np.array([1, 2, 3, 4, 5])\n",
    "\n",
    "arr.flags.writeable = False\n",
    "\n",
    "try:\n",
    "    arr[0] = 10  \n",
    "except ValueError as e:\n",
    "    print(\"Error:\", e)  "
   ]
  },
  {
   "cell_type": "markdown",
   "metadata": {},
   "source": [
    "#### 44. Consider a random 10x2 matrix representing cartesian coordinates, convert them to polar coordinates (★★☆)"
   ]
  },
  {
   "cell_type": "code",
   "execution_count": 27,
   "metadata": {},
   "outputs": [
    {
     "name": "stdout",
     "output_type": "stream",
     "text": [
      "Cartesian coordinates:\n",
      "[[ 1.62522284 -1.88288924]\n",
      " [ 0.20068021  0.46710279]\n",
      " [-3.15145544  4.69584628]\n",
      " [ 2.75132823  4.39498942]\n",
      " [ 3.9482735   0.97899979]\n",
      " [ 4.21874235 -4.11507498]\n",
      " [-3.04017138 -4.54772711]\n",
      " [-1.74669669 -1.1132271 ]\n",
      " [-2.28650968  3.28737509]\n",
      " [-1.43246673 -2.1906549 ]]\n",
      "\n",
      "Polar coordinates (r, θ in radians):\n",
      "[[ 2.48729194 -0.85871525]\n",
      " [ 0.50838722  1.16501267]\n",
      " [ 5.65531995  2.1618726 ]\n",
      " [ 5.185146    1.01146763]\n",
      " [ 4.06783779  0.24305438]\n",
      " [ 5.89335466 -0.77295944]\n",
      " [ 5.47032576 -2.16006949]\n",
      " [ 2.07128557 -2.57417392]\n",
      " [ 4.00436781  2.17852453]\n",
      " [ 2.6174281  -2.14990751]]\n"
     ]
    }
   ],
   "source": [
    "cartesian = np.random.rand(10, 2) * 10 - 5 \n",
    "\n",
    "r = np.sqrt(cartesian[:, 0]**2 + cartesian[:, 1]**2)  \n",
    "theta = np.arctan2(cartesian[:, 1], cartesian[:, 0])   \n",
    "\n",
    "polar = np.column_stack((r, theta))\n",
    "\n",
    "print(\"Cartesian coordinates:\")\n",
    "print(cartesian)\n",
    "print(\"\\nPolar coordinates (r, θ in radians):\")\n",
    "print(polar)"
   ]
  },
  {
   "cell_type": "markdown",
   "metadata": {},
   "source": [
    "#### 45. Create random vector of size 10 and replace the maximum value by 0 (★★☆)"
   ]
  },
  {
   "cell_type": "code",
   "execution_count": 28,
   "metadata": {},
   "outputs": [
    {
     "name": "stdout",
     "output_type": "stream",
     "text": [
      "Original vector: [0.54269608 0.14092422 0.80219698 0.07455064 0.98688694 0.77224477\n",
      " 0.19871568 0.00552212 0.81546143 0.70685734]\n",
      "Modified vector: [0.54269608 0.14092422 0.80219698 0.07455064 0.         0.77224477\n",
      " 0.19871568 0.00552212 0.81546143 0.70685734]\n"
     ]
    }
   ],
   "source": [
    "vec = np.random.rand(10) \n",
    "print(\"Original vector:\", vec)\n",
    "\n",
    "max_index = np.argmax(vec)\n",
    "\n",
    "vec[max_index] = 0\n",
    "print(\"Modified vector:\", vec)\n"
   ]
  }
 ],
 "metadata": {
  "kernelspec": {
   "display_name": "Python 3",
   "language": "python",
   "name": "python3"
  },
  "language_info": {
   "codemirror_mode": {
    "name": "ipython",
    "version": 3
   },
   "file_extension": ".py",
   "mimetype": "text/x-python",
   "name": "python",
   "nbconvert_exporter": "python",
   "pygments_lexer": "ipython3",
   "version": "3.13.3"
  }
 },
 "nbformat": 4,
 "nbformat_minor": 4
}
