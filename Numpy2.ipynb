{
 "cells": [
  {
   "cell_type": "markdown",
   "metadata": {},
   "source": [
    "# Numpy Exercise 2\n",
    "\n",
    "### All of the questions in this exercise are attributed to rougier/numpy-100"
   ]
  },
  {
   "cell_type": "code",
   "execution_count": null,
   "metadata": {},
   "outputs": [],
   "source": []
  },
  {
   "cell_type": "markdown",
   "metadata": {},
   "source": [
    "#### 16. How to add a border (filled with 0's) around an existing array? (★☆☆)"
   ]
  },
  {
   "cell_type": "code",
   "execution_count": 13,
   "metadata": {},
   "outputs": [
    {
     "name": "stdout",
     "output_type": "stream",
     "text": [
      "[[0 0 0 0 0]\n",
      " [0 1 2 3 0]\n",
      " [0 4 5 6 0]\n",
      " [0 0 0 0 0]]\n"
     ]
    }
   ],
   "source": [
    "import numpy as np\n",
    "\n",
    "#original array\n",
    "arr = np.array([[1, 2, 3],\n",
    "                [4, 5, 6]])\n",
    "\n",
    "#A border of 0's\n",
    "padded_arr = np.pad(arr, pad_width=1, mode='constant', constant_values=0)\n",
    "\n",
    "print(padded_arr)\n",
    "\n"
   ]
  },
  {
   "cell_type": "markdown",
   "metadata": {},
   "source": [
    "#### 17. What is the result of the following expression? (★☆☆)\n",
    "```python\n",
    "0 * np.nan\n",
    "np.nan == np.nan\n",
    "np.inf > np.nan\n",
    "np.nan - np.nan\n",
    "np.nan in set([np.nan])\n",
    "0.3 == 3 * 0.1\n",
    "```"
   ]
  },
  {
   "cell_type": "code",
   "execution_count": 28,
   "metadata": {},
   "outputs": [
    {
     "name": "stdout",
     "output_type": "stream",
     "text": [
      "0 * np.nan: nan\n",
      "np.nan == np.nan: False\n",
      "np.inf > np.nan: False\n",
      "np.nan - np.nan: nan\n",
      "np.nan in set([np.nan]): True\n",
      "0.3 == 3 * 0.1: False\n"
     ]
    }
   ],
   "source": [
    "expressions = [\n",
    "    (\"0 * np.nan\", 0 * np.nan),\n",
    "    (\"np.nan == np.nan\", np.nan == np.nan),\n",
    "    (\"np.inf > np.nan\", np.inf > np.nan),\n",
    "    (\"np.nan - np.nan\", np.nan - np.nan),\n",
    "    (\"np.nan in set([np.nan])\", np.nan in set([np.nan])),\n",
    "    (\"0.3 == 3 * 0.1\", 0.3 == 3 * 0.1)\n",
    "]\n",
    "\n",
    "for expr, val in expressions:\n",
    "    print(f\"{expr}: {val}\")"
   ]
  },
  {
   "cell_type": "markdown",
   "metadata": {},
   "source": [
    "#### 18. Create a 5x5 matrix with values 1,2,3,4 just below the diagonal (★☆☆)"
   ]
  },
  {
   "cell_type": "code",
   "execution_count": 15,
   "metadata": {},
   "outputs": [
    {
     "name": "stdout",
     "output_type": "stream",
     "text": [
      "[[0 0 0 0 0]\n",
      " [1 0 0 0 0]\n",
      " [0 2 0 0 0]\n",
      " [0 0 3 0 0]\n",
      " [0 0 0 4 0]]\n"
     ]
    }
   ],
   "source": [
    "matrix = np.diag([1, 2, 3, 4], k=-1)\n",
    "\n",
    "print(matrix)"
   ]
  },
  {
   "cell_type": "markdown",
   "metadata": {},
   "source": [
    "#### 19. Create a 8x8 matrix and fill it with a checkerboard pattern (★☆☆)"
   ]
  },
  {
   "cell_type": "code",
   "execution_count": 16,
   "metadata": {},
   "outputs": [
    {
     "name": "stdout",
     "output_type": "stream",
     "text": [
      "[[0 1 0 1 0 1 0 1]\n",
      " [1 0 1 0 1 0 1 0]\n",
      " [0 1 0 1 0 1 0 1]\n",
      " [1 0 1 0 1 0 1 0]\n",
      " [0 1 0 1 0 1 0 1]\n",
      " [1 0 1 0 1 0 1 0]\n",
      " [0 1 0 1 0 1 0 1]\n",
      " [1 0 1 0 1 0 1 0]]\n"
     ]
    }
   ],
   "source": [
    "checkerboard = np.zeros((8, 8), dtype=int)\n",
    "checkerboard[1::2, ::2] = 1 \n",
    "checkerboard[::2, 1::2] = 1 \n",
    "\n",
    "print(checkerboard)"
   ]
  },
  {
   "cell_type": "markdown",
   "metadata": {},
   "source": [
    "#### 20. Consider a (6,7,8) shape array, what is the index (x,y,z) of the 100th element?"
   ]
  },
  {
   "cell_type": "code",
   "execution_count": 17,
   "metadata": {},
   "outputs": [
    {
     "name": "stdout",
     "output_type": "stream",
     "text": [
      "Index (x, y, z) of the 100th element: (1, 5, 3)\n"
     ]
    }
   ],
   "source": [
    "arr = np.arange(6 * 7 * 8).reshape(6, 7, 8)\n",
    "x, y, z = np.unravel_index(99, (6, 7, 8))\n",
    "\n",
    "print(f\"Index (x, y, z) of the 100th element: ({x}, {y}, {z})\")"
   ]
  },
  {
   "cell_type": "markdown",
   "metadata": {},
   "source": [
    "#### 21. Create a checkerboard 8x8 matrix using the tile function (★☆☆)"
   ]
  },
  {
   "cell_type": "code",
   "execution_count": 18,
   "metadata": {},
   "outputs": [
    {
     "name": "stdout",
     "output_type": "stream",
     "text": [
      "[[0 1 0 1 0 1 0 1]\n",
      " [1 0 1 0 1 0 1 0]\n",
      " [0 1 0 1 0 1 0 1]\n",
      " [1 0 1 0 1 0 1 0]\n",
      " [0 1 0 1 0 1 0 1]\n",
      " [1 0 1 0 1 0 1 0]\n",
      " [0 1 0 1 0 1 0 1]\n",
      " [1 0 1 0 1 0 1 0]]\n"
     ]
    }
   ],
   "source": [
    "base_pattern = np.array([[0, 1],\n",
    "                         [1, 0]])\n",
    "\n",
    "checkerboard = np.tile(base_pattern, (4, 4))\n",
    "\n",
    "print(checkerboard)"
   ]
  },
  {
   "cell_type": "markdown",
   "metadata": {},
   "source": [
    "#### 22. Normalize a 5x5 random matrix (★☆☆)"
   ]
  },
  {
   "cell_type": "code",
   "execution_count": 19,
   "metadata": {},
   "outputs": [
    {
     "name": "stdout",
     "output_type": "stream",
     "text": [
      "Original:\n",
      " [[6 4 0 9 5]\n",
      " [5 0 5 4 0]\n",
      " [5 3 5 6 3]\n",
      " [9 8 5 3 0]\n",
      " [5 2 2 7 1]]\n",
      "\n",
      "Min-max normalized [0, 1]:\n",
      " [[0.66666667 0.44444444 0.         1.         0.55555556]\n",
      " [0.55555556 0.         0.55555556 0.44444444 0.        ]\n",
      " [0.55555556 0.33333333 0.55555556 0.66666667 0.33333333]\n",
      " [1.         0.88888889 0.55555556 0.33333333 0.        ]\n",
      " [0.55555556 0.22222222 0.22222222 0.77777778 0.11111111]]\n"
     ]
    }
   ],
   "source": [
    "matrix = np.random.randint(0, 10, size=(5, 5))\n",
    "\n",
    "normalized = (matrix - np.min(matrix)) / (np.max(matrix) - np.min(matrix))\n",
    "\n",
    "print(\"Original:\\n\", matrix)\n",
    "print(\"\\nMin-max normalized [0, 1]:\\n\", normalized)"
   ]
  },
  {
   "cell_type": "markdown",
   "metadata": {},
   "source": [
    "#### 23. Create a custom dtype that describes a color as four unsigned bytes (RGBA) (★☆☆)"
   ]
  },
  {
   "cell_type": "code",
   "execution_count": 20,
   "metadata": {},
   "outputs": [
    {
     "name": "stdout",
     "output_type": "stream",
     "text": [
      "[(255,   0,   0, 255) (  0, 255,   0, 255) (  0,   0, 255, 255)]\n"
     ]
    }
   ],
   "source": [
    "color_dtype = np.dtype([('r', 'u1'), ('g', 'u1'), ('b', 'u1'), ('a', 'u1')])\n",
    "\n",
    "colors = np.array([(255, 0, 0, 255),  # Red\n",
    "                   (0, 255, 0, 255),  # Green\n",
    "                   (0, 0, 255, 255)], # Blue\n",
    "                  dtype=color_dtype)\n",
    "\n",
    "print(colors)\n"
   ]
  },
  {
   "cell_type": "markdown",
   "metadata": {},
   "source": [
    "#### 24. Multiply a 5x3 matrix by a 3x2 matrix (real matrix product) (★☆☆)"
   ]
  },
  {
   "cell_type": "code",
   "execution_count": 21,
   "metadata": {},
   "outputs": [
    {
     "name": "stdout",
     "output_type": "stream",
     "text": [
      "Matrix A (5x3):\n",
      " [[0.13043693 0.34838706 0.98168192]\n",
      " [0.12198891 0.00759476 0.41652122]\n",
      " [0.94917528 0.03652538 0.12153493]\n",
      " [0.92325514 0.9518974  0.28501733]\n",
      " [0.79431754 0.14755873 0.74674977]]\n",
      "\n",
      "Matrix B (3x2):\n",
      " [[0.55137718 0.20565676]\n",
      " [0.17130755 0.71411978]\n",
      " [0.92001345 0.20955312]]\n",
      "\n",
      "Matrix C (5x2) = A @ B:\n",
      " [[1.03476186 0.48132984]\n",
      " [0.45176807 0.11779473]\n",
      " [0.64142443 0.24675583]\n",
      " [0.9343488  0.9293687 ]\n",
      " [1.15026633 0.42521512]]\n"
     ]
    }
   ],
   "source": [
    "A = np.random.rand(5, 3)\n",
    "\n",
    "B = np.random.rand(3, 2)\n",
    "\n",
    "C = A @ B\n",
    "\n",
    "print(\"Matrix A (5x3):\\n\", A)\n",
    "print(\"\\nMatrix B (3x2):\\n\", B)\n",
    "print(\"\\nMatrix C (5x2) = A @ B:\\n\", C)\n"
   ]
  },
  {
   "cell_type": "markdown",
   "metadata": {},
   "source": [
    "#### 25. Given a 1D array, negate all elements which are between 3 and 8, in place. (★☆☆)"
   ]
  },
  {
   "cell_type": "code",
   "execution_count": 22,
   "metadata": {},
   "outputs": [
    {
     "name": "stdout",
     "output_type": "stream",
     "text": [
      "[ 1 -5  9 -3 -8  2 -7]\n"
     ]
    }
   ],
   "source": [
    "arr = np.array([1, 5, 9, 3, 8, 2, 7])\n",
    "\n",
    "arr[(arr >= 3) & (arr <= 8)] *= -1\n",
    "\n",
    "print(arr)"
   ]
  },
  {
   "cell_type": "markdown",
   "metadata": {},
   "source": [
    "#### 26. What is the output of the following script? (★☆☆)\n",
    "```python\n",
    "# Author: Jake VanderPlas\n",
    "\n",
    "print(sum(range(5),-1))\n",
    "from numpy import *\n",
    "print(sum(range(5),-1))\n",
    "```"
   ]
  },
  {
   "cell_type": "code",
   "execution_count": 29,
   "metadata": {},
   "outputs": [
    {
     "name": "stdout",
     "output_type": "stream",
     "text": [
      "10\n",
      "10\n"
     ]
    }
   ],
   "source": [
    "#Author: Jake VanderPlass\n",
    "\n",
    "print(sum(range(5), -1))\n",
    "from numpy import*\n",
    "print(sum(range(5), -1))"
   ]
  },
  {
   "cell_type": "markdown",
   "metadata": {},
   "source": [
    "#### 27. Consider an integer vector Z, which of these expressions are legal? (★☆☆)\n",
    "```python\n",
    "Z**Z\n",
    "2 << Z >> 2\n",
    "Z <- Z\n",
    "1j*Z\n",
    "Z/1/1\n",
    "Z<Z>Z\n",
    "```"
   ]
  },
  {
   "cell_type": "code",
   "execution_count": 30,
   "metadata": {},
   "outputs": [
    {
     "name": "stdout",
     "output_type": "stream",
     "text": [
      "[ 1  4 27]\n",
      "[ 4  8 16]\n",
      "[1 2 4]\n",
      "[False  True False]\n",
      "[0.+1.j 0.+2.j 0.+3.j]\n",
      "[1. 2. 3.]\n",
      "Z < Z < Z: ValueError → The truth value of an array with more than one element is ambiguous. Use a.any() or a.all()\n"
     ]
    }
   ],
   "source": [
    "\n",
    "Z = np.array([1, 2, 3])\n",
    "print(Z**Z)  \n",
    "\n",
    "Z = np.array([1, 2, 3])\n",
    "print(2 << Z)\n",
    "print((2 << Z) >> 2) \n",
    "\n",
    "Z = np.array([1, -2, 3])\n",
    "print(Z < -Z) \n",
    "\n",
    "Z = np.array([1, 2, 3])\n",
    "print(1j * Z)\n",
    "\n",
    "Z = np.array([1, 2, 3])\n",
    "print(Z / 1 / 1)\n",
    "\n",
    "try:\n",
    "    print(\"Z < Z < Z:\", Z < Z < Z)\n",
    "except ValueError as e:\n",
    "    print(\"Z < Z < Z: ValueError →\", e)\n"
   ]
  },
  {
   "cell_type": "code",
   "execution_count": 31,
   "metadata": {},
   "outputs": [
    {
     "name": "stdout",
     "output_type": "stream",
     "text": [
      "Z**Z: [ 1  4 27]\n",
      "2 << Z: [ 4  8 16]\n",
      "2 << Z >> 2: [1 2 4]\n",
      "1j * Z: [0.+1.j 0.+2.j 0.+3.j]\n",
      "Z / 1 / 1: [1. 2. 3.]\n",
      "Z < Z < Z: ValueError → The truth value of an array with more than one element is ambiguous. Use a.any() or a.all()\n"
     ]
    }
   ],
   "source": [
    "Z = np.array([1, 2, 3])\n",
    "\n",
    "print(\"Z**Z:\", Z**Z) \n",
    "\n",
    "print(\"2 << Z:\", 2 << Z)    \n",
    "print(\"2 << Z >> 2:\", (2 << Z) >> 2)\n",
    "\n",
    "print(\"1j * Z:\", 1j * Z)\n",
    "\n",
    "print(\"Z / 1 / 1:\", Z / 1 / 1)\n",
    "\n",
    "try:\n",
    "    print(\"Z < Z < Z:\", Z < Z < Z)\n",
    "except ValueError as e:\n",
    "    print(\"Z < Z < Z: ValueError →\", e)\n"
   ]
  },
  {
   "cell_type": "markdown",
   "metadata": {},
   "source": [
    "### 28. What are the result of the following expressions?\n",
    "```python\n",
    "np.array(0) / np.array(0)\n",
    "np.array(0) // np.array(0)\n",
    "np.array([np.nan]).astype(int).astype(float)\n",
    "```"
   ]
  },
  {
   "cell_type": "code",
   "execution_count": 35,
   "metadata": {},
   "outputs": [
    {
     "name": "stdout",
     "output_type": "stream",
     "text": [
      "1. np.array(0) / np.array(0):\n",
      "   Result: nan\n",
      "   Warning: invalid value encountered in divide\n",
      "\n",
      "2. np.array(0) // np.array(0):\n",
      "   Result: 0\n",
      "   Warning: divide by zero encountered in floor_divide\n",
      "\n",
      "3. np.array([np.nan]).astype(int).astype(float):\n",
      "   Result: [-9.22337204e+18]\n",
      "   Warning: invalid value encountered in cast\n"
     ]
    }
   ],
   "source": [
    "import warnings\n",
    "\n",
    "warnings.simplefilter(\"always\", RuntimeWarning)\n",
    "\n",
    "print(\"1. np.array(0) / np.array(0):\")\n",
    "with warnings.catch_warnings(record=True) as w:\n",
    "    result1 = np.array(0) / np.array(0)\n",
    "    print(\"   Result:\", result1)\n",
    "    if w:\n",
    "        print(\"   Warning:\", str(w[0].message))\n",
    "\n",
    "print(\"\\n2. np.array(0) // np.array(0):\")\n",
    "with warnings.catch_warnings(record=True) as w:\n",
    "    result2 = np.array(0) // np.array(0)\n",
    "    print(\"   Result:\", result2)\n",
    "    if w:\n",
    "        print(\"   Warning:\", str(w[0].message))\n",
    "\n",
    "print(\"\\n3. np.array([np.nan]).astype(int).astype(float):\")\n",
    "with warnings.catch_warnings(record=True) as w:\n",
    "    result3 = np.array([np.nan]).astype(int).astype(float)\n",
    "    print(\"   Result:\", result3)\n",
    "    if w:\n",
    "        print(\"   Warning:\", str(w[0].message))\n"
   ]
  },
  {
   "cell_type": "markdown",
   "metadata": {},
   "source": [
    "#### 29. How to round away from zero a float array ? (★☆☆)"
   ]
  },
  {
   "cell_type": "code",
   "execution_count": 36,
   "metadata": {},
   "outputs": [
    {
     "name": "stdout",
     "output_type": "stream",
     "text": [
      "[ 2. -2.  3. -3.  0.]\n"
     ]
    }
   ],
   "source": [
    "def round_away_from_zero(arr):\n",
    "    arr = np.array(arr)  \n",
    "    return np.where(arr > 0, np.ceil(arr), np.floor(arr))\n",
    "\n",
    "a = np.array([1.2, -1.2, 2.7, -2.7, 0.0])\n",
    "rounded = round_away_from_zero(a)\n",
    "print(rounded)\n"
   ]
  },
  {
   "cell_type": "markdown",
   "metadata": {},
   "source": [
    "#### 30. How to find common values between two arrays? (★☆☆)"
   ]
  },
  {
   "cell_type": "code",
   "execution_count": 37,
   "metadata": {},
   "outputs": [
    {
     "name": "stdout",
     "output_type": "stream",
     "text": [
      "[3 4 5]\n"
     ]
    }
   ],
   "source": [
    "a = np.array([1, 2, 3, 4, 5])\n",
    "b = np.array([3, 4, 5, 6, 7])\n",
    "\n",
    "common = np.intersect1d(a, b)\n",
    "print(common)\n"
   ]
  }
 ],
 "metadata": {
  "kernelspec": {
   "display_name": "Python 3",
   "language": "python",
   "name": "python3"
  },
  "language_info": {
   "codemirror_mode": {
    "name": "ipython",
    "version": 3
   },
   "file_extension": ".py",
   "mimetype": "text/x-python",
   "name": "python",
   "nbconvert_exporter": "python",
   "pygments_lexer": "ipython3",
   "version": "3.13.3"
  }
 },
 "nbformat": 4,
 "nbformat_minor": 4
}
