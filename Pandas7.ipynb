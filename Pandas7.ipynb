{
 "cells": [
  {
   "cell_type": "markdown",
   "metadata": {},
   "source": [
    "# Regiment"
   ]
  },
  {
   "cell_type": "markdown",
   "metadata": {},
   "source": [
    "### Introduction:\n",
    "\n",
    "Special thanks to: http://chrisalbon.com/ for sharing the dataset and materials.\n",
    "\n",
    "### Step 1. Import the necessary libraries"
   ]
  },
  {
   "cell_type": "code",
   "execution_count": 1,
   "metadata": {
    "collapsed": false
   },
   "outputs": [],
   "source": [
    "import pandas as pd\n",
    "import numpy as np"
   ]
  },
  {
   "cell_type": "markdown",
   "metadata": {},
   "source": [
    "### Step 2. Create the DataFrame with the following values:"
   ]
  },
  {
   "cell_type": "code",
   "execution_count": 51,
   "metadata": {
    "collapsed": true
   },
   "outputs": [],
   "source": [
    "raw_data = {'regiment': ['Nighthawks', 'Nighthawks', 'Nighthawks', 'Nighthawks', 'Dragoons', 'Dragoons', 'Dragoons', 'Dragoons', 'Scouts', 'Scouts', 'Scouts', 'Scouts'], \n",
    "        'company': ['1st', '1st', '2nd', '2nd', '1st', '1st', '2nd', '2nd','1st', '1st', '2nd', '2nd'], \n",
    "        'name': ['Miller', 'Jacobson', 'Ali', 'Milner', 'Cooze', 'Jacon', 'Ryaner', 'Sone', 'Sloan', 'Piger', 'Riani', 'Ali'], \n",
    "        'preTestScore': [4, 24, 31, 2, 3, 4, 24, 31, 2, 3, 2, 3],\n",
    "        'postTestScore': [25, 94, 57, 62, 70, 25, 94, 57, 62, 70, 62, 70]}"
   ]
  },
  {
   "cell_type": "markdown",
   "metadata": {},
   "source": [
    "### Step 3. Assign it to a variable called regiment.\n",
    "#### Don't forget to name each column"
   ]
  },
  {
   "cell_type": "code",
   "execution_count": 2,
   "metadata": {
    "collapsed": false
   },
   "outputs": [
    {
     "name": "stdout",
     "output_type": "stream",
     "text": [
      "      regiment company      name  preTestScore  postTestScore\n",
      "0   Nighthawks     1st    Miller             4             25\n",
      "1   Nighthawks     1st  Jacobson            24             94\n",
      "2   Nighthawks     2nd       Ali            31             57\n",
      "3   Nighthawks     2nd    Milner             2             62\n",
      "4     Dragoons     1st     Cooze             3             70\n",
      "5     Dragoons     1st     Jacon             4             25\n",
      "6     Dragoons     2nd    Ryaner            24             94\n",
      "7     Dragoons     2nd      Sone            31             57\n",
      "8       Scouts     1st     Sloan             2             62\n",
      "9       Scouts     1st     Piger             3             70\n",
      "10      Scouts     2nd     Riani             2             62\n",
      "11      Scouts     2nd       Ali             3             70\n"
     ]
    }
   ],
   "source": [
    "regiment = {\n",
    "    'regiment': ['Nighthawks', 'Nighthawks', 'Nighthawks', 'Nighthawks', \n",
    "                'Dragoons', 'Dragoons', 'Dragoons', 'Dragoons', \n",
    "                'Scouts', 'Scouts', 'Scouts', 'Scouts'],\n",
    "    'company': ['1st', '1st', '2nd', '2nd', \n",
    "               '1st', '1st', '2nd', '2nd',\n",
    "               '1st', '1st', '2nd', '2nd'],\n",
    "    'name': ['Miller', 'Jacobson', 'Ali', 'Milner', \n",
    "             'Cooze', 'Jacon', 'Ryaner', 'Sone', \n",
    "             'Sloan', 'Piger', 'Riani', 'Ali'],\n",
    "    'preTestScore': [4, 24, 31, 2, 3, 4, 24, 31, 2, 3, 2, 3],\n",
    "    'postTestScore': [25, 94, 57, 62, 70, 25, 94, 57, 62, 70, 62, 70]\n",
    "}\n",
    "\n",
    "df = pd.DataFrame(regiment)\n",
    "print(df)"
   ]
  },
  {
   "cell_type": "markdown",
   "metadata": {},
   "source": [
    "### Step 4. What is the mean preTestScore from the regiment Nighthawks?  "
   ]
  },
  {
   "cell_type": "code",
   "execution_count": 3,
   "metadata": {
    "collapsed": false
   },
   "outputs": [
    {
     "name": "stdout",
     "output_type": "stream",
     "text": [
      "regiment\n",
      "Dragoons      15.50\n",
      "Nighthawks    15.25\n",
      "Scouts         2.50\n",
      "Name: preTestScore, dtype: float64\n"
     ]
    }
   ],
   "source": [
    "mean_by_regiment = df.groupby('regiment')['preTestScore'].mean()\n",
    "print(mean_by_regiment)"
   ]
  },
  {
   "cell_type": "markdown",
   "metadata": {},
   "source": [
    "### Step 5. Present general statistics by company"
   ]
  },
  {
   "cell_type": "code",
   "execution_count": 4,
   "metadata": {
    "collapsed": false
   },
   "outputs": [
    {
     "name": "stdout",
     "output_type": "stream",
     "text": [
      "         Pre-Test Mean  Pre-Test Median  Pre-Test Min  Pre-Test Max  \\\n",
      "company                                                               \n",
      "1st               6.67              3.5             2            24   \n",
      "2nd              15.50             13.5             2            31   \n",
      "\n",
      "         Post-Test Mean  Post-Test Median  Post-Test Min  Post-Test Max  \\\n",
      "company                                                                   \n",
      "1st               57.67              66.0             25             94   \n",
      "2nd               67.00              62.0             57             94   \n",
      "\n",
      "         Avg Improvement  Total Improvement  \n",
      "company                                      \n",
      "1st                 51.0                306  \n",
      "2nd                 51.5                309  \n"
     ]
    }
   ],
   "source": [
    "df['score_improvement'] = df['postTestScore'] - df['preTestScore']\n",
    "\n",
    "company_stats = df.groupby('company').agg({\n",
    "    'preTestScore': ['mean', 'median', 'min', 'max'],\n",
    "    'postTestScore': ['mean', 'median', 'min', 'max'],\n",
    "    'score_improvement': ['mean', 'sum']\n",
    "}).round(2)\n",
    "\n",
    "company_stats.columns = [\n",
    "    'Pre-Test Mean', 'Pre-Test Median', 'Pre-Test Min', 'Pre-Test Max',\n",
    "    'Post-Test Mean', 'Post-Test Median', 'Post-Test Min', 'Post-Test Max',\n",
    "    'Avg Improvement', 'Total Improvement'\n",
    "]\n",
    "\n",
    "print(company_stats)"
   ]
  },
  {
   "cell_type": "markdown",
   "metadata": {},
   "source": [
    "### Step 6. What is the mean of each company's preTestScore?"
   ]
  },
  {
   "cell_type": "code",
   "execution_count": null,
   "metadata": {
    "collapsed": false
   },
   "outputs": [],
   "source": []
  },
  {
   "cell_type": "markdown",
   "metadata": {},
   "source": [
    "### Step 7. Present the mean preTestScores grouped by regiment and company"
   ]
  },
  {
   "cell_type": "code",
   "execution_count": null,
   "metadata": {
    "collapsed": false
   },
   "outputs": [],
   "source": []
  },
  {
   "cell_type": "markdown",
   "metadata": {},
   "source": [
    "### Step 8. Present the mean preTestScores grouped by regiment and company without heirarchical indexing"
   ]
  },
  {
   "cell_type": "code",
   "execution_count": null,
   "metadata": {
    "collapsed": false
   },
   "outputs": [],
   "source": []
  },
  {
   "cell_type": "markdown",
   "metadata": {},
   "source": [
    "### Step 9. Group the entire dataframe by regiment and company"
   ]
  },
  {
   "cell_type": "code",
   "execution_count": null,
   "metadata": {
    "collapsed": false
   },
   "outputs": [],
   "source": []
  },
  {
   "cell_type": "markdown",
   "metadata": {},
   "source": [
    "### Step 10. What is the number of observations in each regiment and company"
   ]
  },
  {
   "cell_type": "code",
   "execution_count": null,
   "metadata": {
    "collapsed": false
   },
   "outputs": [],
   "source": []
  },
  {
   "cell_type": "markdown",
   "metadata": {},
   "source": [
    "### Step 11. Iterate over a group and print the name and the whole data from the regiment"
   ]
  },
  {
   "cell_type": "code",
   "execution_count": null,
   "metadata": {
    "collapsed": false
   },
   "outputs": [],
   "source": []
  }
 ],
 "metadata": {
  "kernelspec": {
   "display_name": "Python 3",
   "language": "python",
   "name": "python3"
  },
  "language_info": {
   "codemirror_mode": {
    "name": "ipython",
    "version": 3
   },
   "file_extension": ".py",
   "mimetype": "text/x-python",
   "name": "python",
   "nbconvert_exporter": "python",
   "pygments_lexer": "ipython3",
   "version": "3.13.3"
  }
 },
 "nbformat": 4,
 "nbformat_minor": 0
}
