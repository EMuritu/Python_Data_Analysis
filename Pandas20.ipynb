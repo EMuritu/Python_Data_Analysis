{
 "cells": [
  {
   "cell_type": "markdown",
   "metadata": {},
   "source": [
    "# Investor - Flow of Funds - US"
   ]
  },
  {
   "cell_type": "markdown",
   "metadata": {},
   "source": [
    "### Introduction:\n",
    "\n",
    "Special thanks to: https://github.com/rgrp for sharing the dataset.\n",
    "\n",
    "### Step 1. Import the necessary libraries"
   ]
  },
  {
   "cell_type": "code",
   "execution_count": 31,
   "metadata": {
    "collapsed": false
   },
   "outputs": [],
   "source": [
    "import numpy as np\n",
    "import pandas as pd"
   ]
  },
  {
   "cell_type": "markdown",
   "metadata": {},
   "source": [
    "### Step 2. Import the dataset from this [address](https://raw.githubusercontent.com/datasets/investor-flow-of-funds-us/master/data/weekly.csv). "
   ]
  },
  {
   "cell_type": "markdown",
   "metadata": {},
   "source": [
    "### Step 3. Assign it to a variable called "
   ]
  },
  {
   "cell_type": "code",
   "execution_count": 32,
   "metadata": {
    "collapsed": false
   },
   "outputs": [
    {
     "data": {
      "text/html": [
       "<div>\n",
       "<style scoped>\n",
       "    .dataframe tbody tr th:only-of-type {\n",
       "        vertical-align: middle;\n",
       "    }\n",
       "\n",
       "    .dataframe tbody tr th {\n",
       "        vertical-align: top;\n",
       "    }\n",
       "\n",
       "    .dataframe thead th {\n",
       "        text-align: right;\n",
       "    }\n",
       "</style>\n",
       "<table border=\"1\" class=\"dataframe\">\n",
       "  <thead>\n",
       "    <tr style=\"text-align: right;\">\n",
       "      <th></th>\n",
       "      <th>Date</th>\n",
       "      <th>Total Equity</th>\n",
       "      <th>Domestic Equity</th>\n",
       "      <th>World Equity</th>\n",
       "      <th>Hybrid</th>\n",
       "      <th>Total Bond</th>\n",
       "      <th>Taxable Bond</th>\n",
       "      <th>Municipal Bond</th>\n",
       "      <th>Total</th>\n",
       "    </tr>\n",
       "  </thead>\n",
       "  <tbody>\n",
       "    <tr>\n",
       "      <th>0</th>\n",
       "      <td>2011-10-05</td>\n",
       "      <td>-4002</td>\n",
       "      <td>-4499.0</td>\n",
       "      <td>497</td>\n",
       "      <td>-1354.0</td>\n",
       "      <td>-5828</td>\n",
       "      <td>-6258.0</td>\n",
       "      <td>430</td>\n",
       "      <td>-11184.0</td>\n",
       "    </tr>\n",
       "    <tr>\n",
       "      <th>1</th>\n",
       "      <td>2011-10-12</td>\n",
       "      <td>-7397</td>\n",
       "      <td>-5842.0</td>\n",
       "      <td>-1555</td>\n",
       "      <td>512.0</td>\n",
       "      <td>3954</td>\n",
       "      <td>3927.0</td>\n",
       "      <td>28</td>\n",
       "      <td>-2931.0</td>\n",
       "    </tr>\n",
       "    <tr>\n",
       "      <th>2</th>\n",
       "      <td>2011-10-19</td>\n",
       "      <td>-3292</td>\n",
       "      <td>-3466.0</td>\n",
       "      <td>174</td>\n",
       "      <td>1399.0</td>\n",
       "      <td>5652</td>\n",
       "      <td>5102.0</td>\n",
       "      <td>550</td>\n",
       "      <td>3759.0</td>\n",
       "    </tr>\n",
       "    <tr>\n",
       "      <th>3</th>\n",
       "      <td>2011-10-26</td>\n",
       "      <td>-3696</td>\n",
       "      <td>-2998.0</td>\n",
       "      <td>-698</td>\n",
       "      <td>2631.0</td>\n",
       "      <td>4910</td>\n",
       "      <td>4070.0</td>\n",
       "      <td>841</td>\n",
       "      <td>3846.0</td>\n",
       "    </tr>\n",
       "    <tr>\n",
       "      <th>4</th>\n",
       "      <td>2011-12-07</td>\n",
       "      <td>-7956</td>\n",
       "      <td>-5761.0</td>\n",
       "      <td>-2196</td>\n",
       "      <td>1089.0</td>\n",
       "      <td>3523</td>\n",
       "      <td>2068.0</td>\n",
       "      <td>1456</td>\n",
       "      <td>-3343.0</td>\n",
       "    </tr>\n",
       "  </tbody>\n",
       "</table>\n",
       "</div>"
      ],
      "text/plain": [
       "         Date  Total Equity  Domestic Equity  World Equity  Hybrid  \\\n",
       "0  2011-10-05         -4002          -4499.0           497 -1354.0   \n",
       "1  2011-10-12         -7397          -5842.0         -1555   512.0   \n",
       "2  2011-10-19         -3292          -3466.0           174  1399.0   \n",
       "3  2011-10-26         -3696          -2998.0          -698  2631.0   \n",
       "4  2011-12-07         -7956          -5761.0         -2196  1089.0   \n",
       "\n",
       "   Total Bond  Taxable Bond  Municipal Bond    Total  \n",
       "0       -5828       -6258.0             430 -11184.0  \n",
       "1        3954        3927.0              28  -2931.0  \n",
       "2        5652        5102.0             550   3759.0  \n",
       "3        4910        4070.0             841   3846.0  \n",
       "4        3523        2068.0            1456  -3343.0  "
      ]
     },
     "execution_count": 32,
     "metadata": {},
     "output_type": "execute_result"
    }
   ],
   "source": [
    "df=pd.read_csv(r'https://raw.githubusercontent.com/datasets/investor-flow-of-funds-us/master/data/weekly.csv')\n",
    "df.head()"
   ]
  },
  {
   "cell_type": "markdown",
   "metadata": {},
   "source": [
    "### Step 4.  What is the frequency of the dataset?"
   ]
  },
  {
   "cell_type": "code",
   "execution_count": 33,
   "metadata": {},
   "outputs": [
    {
     "name": "stdout",
     "output_type": "stream",
     "text": [
      "Date\n",
      "7 days      128\n",
      "6 days        8\n",
      "8 days        7\n",
      "337 days      3\n",
      "343 days      2\n",
      "371 days      2\n",
      "5 days        2\n",
      "42 days       1\n",
      "315 days      1\n",
      "308 days      1\n",
      "554 days      1\n",
      "35 days       1\n",
      "133 days      1\n",
      "Name: count, dtype: int64\n"
     ]
    }
   ],
   "source": [
    "#The dataset is also labelled weekly\n",
    "df['Date'] = pd.to_datetime(df['Date'])\n",
    "\n",
    "date_diff = df['Date'].diff()\n",
    "print(date_diff.value_counts())"
   ]
  },
  {
   "cell_type": "markdown",
   "metadata": {},
   "source": [
    "### Step 5. Set the column Date as the index."
   ]
  },
  {
   "cell_type": "code",
   "execution_count": 34,
   "metadata": {
    "collapsed": false
   },
   "outputs": [
    {
     "data": {
      "text/html": [
       "<div>\n",
       "<style scoped>\n",
       "    .dataframe tbody tr th:only-of-type {\n",
       "        vertical-align: middle;\n",
       "    }\n",
       "\n",
       "    .dataframe tbody tr th {\n",
       "        vertical-align: top;\n",
       "    }\n",
       "\n",
       "    .dataframe thead th {\n",
       "        text-align: right;\n",
       "    }\n",
       "</style>\n",
       "<table border=\"1\" class=\"dataframe\">\n",
       "  <thead>\n",
       "    <tr style=\"text-align: right;\">\n",
       "      <th></th>\n",
       "      <th>Total Equity</th>\n",
       "      <th>Domestic Equity</th>\n",
       "      <th>World Equity</th>\n",
       "      <th>Hybrid</th>\n",
       "      <th>Total Bond</th>\n",
       "      <th>Taxable Bond</th>\n",
       "      <th>Municipal Bond</th>\n",
       "      <th>Total</th>\n",
       "    </tr>\n",
       "    <tr>\n",
       "      <th>Date</th>\n",
       "      <th></th>\n",
       "      <th></th>\n",
       "      <th></th>\n",
       "      <th></th>\n",
       "      <th></th>\n",
       "      <th></th>\n",
       "      <th></th>\n",
       "      <th></th>\n",
       "    </tr>\n",
       "  </thead>\n",
       "  <tbody>\n",
       "    <tr>\n",
       "      <th>2011-10-05</th>\n",
       "      <td>-4002</td>\n",
       "      <td>-4499.0</td>\n",
       "      <td>497</td>\n",
       "      <td>-1354.0</td>\n",
       "      <td>-5828</td>\n",
       "      <td>-6258.0</td>\n",
       "      <td>430</td>\n",
       "      <td>-11184.0</td>\n",
       "    </tr>\n",
       "    <tr>\n",
       "      <th>2011-10-12</th>\n",
       "      <td>-7397</td>\n",
       "      <td>-5842.0</td>\n",
       "      <td>-1555</td>\n",
       "      <td>512.0</td>\n",
       "      <td>3954</td>\n",
       "      <td>3927.0</td>\n",
       "      <td>28</td>\n",
       "      <td>-2931.0</td>\n",
       "    </tr>\n",
       "    <tr>\n",
       "      <th>2011-10-19</th>\n",
       "      <td>-3292</td>\n",
       "      <td>-3466.0</td>\n",
       "      <td>174</td>\n",
       "      <td>1399.0</td>\n",
       "      <td>5652</td>\n",
       "      <td>5102.0</td>\n",
       "      <td>550</td>\n",
       "      <td>3759.0</td>\n",
       "    </tr>\n",
       "    <tr>\n",
       "      <th>2011-10-26</th>\n",
       "      <td>-3696</td>\n",
       "      <td>-2998.0</td>\n",
       "      <td>-698</td>\n",
       "      <td>2631.0</td>\n",
       "      <td>4910</td>\n",
       "      <td>4070.0</td>\n",
       "      <td>841</td>\n",
       "      <td>3846.0</td>\n",
       "    </tr>\n",
       "    <tr>\n",
       "      <th>2011-12-07</th>\n",
       "      <td>-7956</td>\n",
       "      <td>-5761.0</td>\n",
       "      <td>-2196</td>\n",
       "      <td>1089.0</td>\n",
       "      <td>3523</td>\n",
       "      <td>2068.0</td>\n",
       "      <td>1456</td>\n",
       "      <td>-3343.0</td>\n",
       "    </tr>\n",
       "  </tbody>\n",
       "</table>\n",
       "</div>"
      ],
      "text/plain": [
       "            Total Equity  Domestic Equity  World Equity  Hybrid  Total Bond  \\\n",
       "Date                                                                          \n",
       "2011-10-05         -4002          -4499.0           497 -1354.0       -5828   \n",
       "2011-10-12         -7397          -5842.0         -1555   512.0        3954   \n",
       "2011-10-19         -3292          -3466.0           174  1399.0        5652   \n",
       "2011-10-26         -3696          -2998.0          -698  2631.0        4910   \n",
       "2011-12-07         -7956          -5761.0         -2196  1089.0        3523   \n",
       "\n",
       "            Taxable Bond  Municipal Bond    Total  \n",
       "Date                                               \n",
       "2011-10-05       -6258.0             430 -11184.0  \n",
       "2011-10-12        3927.0              28  -2931.0  \n",
       "2011-10-19        5102.0             550   3759.0  \n",
       "2011-10-26        4070.0             841   3846.0  \n",
       "2011-12-07        2068.0            1456  -3343.0  "
      ]
     },
     "execution_count": 34,
     "metadata": {},
     "output_type": "execute_result"
    }
   ],
   "source": [
    "df = df.set_index('Date')\n",
    "\n",
    "df.head()"
   ]
  },
  {
   "cell_type": "markdown",
   "metadata": {},
   "source": [
    "### Step 6. What is the type of the index?"
   ]
  },
  {
   "cell_type": "code",
   "execution_count": 35,
   "metadata": {
    "collapsed": false
   },
   "outputs": [
    {
     "name": "stdout",
     "output_type": "stream",
     "text": [
      "<class 'pandas.core.indexes.datetimes.DatetimeIndex'>\n"
     ]
    }
   ],
   "source": [
    "print(type(df.index))  "
   ]
  },
  {
   "cell_type": "markdown",
   "metadata": {},
   "source": [
    "### Step 7. Set the index to a DatetimeIndex type"
   ]
  },
  {
   "cell_type": "code",
   "execution_count": 36,
   "metadata": {
    "collapsed": false
   },
   "outputs": [
    {
     "name": "stdout",
     "output_type": "stream",
     "text": [
      "<class 'pandas.core.indexes.datetimes.DatetimeIndex'>\n",
      "DatetimeIndex(['2011-10-05', '2011-10-12', '2011-10-19', '2011-10-26',\n",
      "               '2011-12-07', '2011-12-14', '2011-12-21', '2011-12-28',\n",
      "               '2012-12-05', '2012-12-12',\n",
      "               ...\n",
      "               '2024-06-26', '2024-07-02', '2024-07-10', '2024-07-17',\n",
      "               '2024-07-24', '2024-12-04', '2024-12-11', '2024-12-18',\n",
      "               '2024-12-24', '2024-12-31'],\n",
      "              dtype='datetime64[ns]', name='Date', length=159, freq=None)\n"
     ]
    }
   ],
   "source": [
    "print(type(df.index))\n",
    "print(df.index)  "
   ]
  },
  {
   "cell_type": "markdown",
   "metadata": {},
   "source": [
    "### Step 8.  Change the frequency to monthly, sum the values and assign it to monthly."
   ]
  },
  {
   "cell_type": "code",
   "execution_count": 42,
   "metadata": {
    "collapsed": false
   },
   "outputs": [
    {
     "data": {
      "text/html": [
       "<div>\n",
       "<style scoped>\n",
       "    .dataframe tbody tr th:only-of-type {\n",
       "        vertical-align: middle;\n",
       "    }\n",
       "\n",
       "    .dataframe tbody tr th {\n",
       "        vertical-align: top;\n",
       "    }\n",
       "\n",
       "    .dataframe thead th {\n",
       "        text-align: right;\n",
       "    }\n",
       "</style>\n",
       "<table border=\"1\" class=\"dataframe\">\n",
       "  <thead>\n",
       "    <tr style=\"text-align: right;\">\n",
       "      <th></th>\n",
       "      <th>Total Equity</th>\n",
       "      <th>Domestic Equity</th>\n",
       "      <th>World Equity</th>\n",
       "      <th>Hybrid</th>\n",
       "      <th>Total Bond</th>\n",
       "      <th>Taxable Bond</th>\n",
       "      <th>Municipal Bond</th>\n",
       "      <th>Total</th>\n",
       "    </tr>\n",
       "    <tr>\n",
       "      <th>Date</th>\n",
       "      <th></th>\n",
       "      <th></th>\n",
       "      <th></th>\n",
       "      <th></th>\n",
       "      <th></th>\n",
       "      <th></th>\n",
       "      <th></th>\n",
       "      <th></th>\n",
       "    </tr>\n",
       "  </thead>\n",
       "  <tbody>\n",
       "    <tr>\n",
       "      <th>2011-10-31</th>\n",
       "      <td>-18387</td>\n",
       "      <td>-16805.0</td>\n",
       "      <td>-1582</td>\n",
       "      <td>3188.0</td>\n",
       "      <td>8688</td>\n",
       "      <td>6841.0</td>\n",
       "      <td>1849</td>\n",
       "      <td>-6510.0</td>\n",
       "    </tr>\n",
       "    <tr>\n",
       "      <th>2011-11-30</th>\n",
       "      <td>0</td>\n",
       "      <td>0.0</td>\n",
       "      <td>0</td>\n",
       "      <td>0.0</td>\n",
       "      <td>0</td>\n",
       "      <td>0.0</td>\n",
       "      <td>0</td>\n",
       "      <td>0.0</td>\n",
       "    </tr>\n",
       "    <tr>\n",
       "      <th>2011-12-31</th>\n",
       "      <td>-23657</td>\n",
       "      <td>-16659.0</td>\n",
       "      <td>-6999</td>\n",
       "      <td>2395.0</td>\n",
       "      <td>13817</td>\n",
       "      <td>9335.0</td>\n",
       "      <td>4483</td>\n",
       "      <td>-7443.0</td>\n",
       "    </tr>\n",
       "    <tr>\n",
       "      <th>2012-01-31</th>\n",
       "      <td>0</td>\n",
       "      <td>0.0</td>\n",
       "      <td>0</td>\n",
       "      <td>0.0</td>\n",
       "      <td>0</td>\n",
       "      <td>0.0</td>\n",
       "      <td>0</td>\n",
       "      <td>0.0</td>\n",
       "    </tr>\n",
       "    <tr>\n",
       "      <th>2012-02-29</th>\n",
       "      <td>0</td>\n",
       "      <td>0.0</td>\n",
       "      <td>0</td>\n",
       "      <td>0.0</td>\n",
       "      <td>0</td>\n",
       "      <td>0.0</td>\n",
       "      <td>0</td>\n",
       "      <td>0.0</td>\n",
       "    </tr>\n",
       "  </tbody>\n",
       "</table>\n",
       "</div>"
      ],
      "text/plain": [
       "            Total Equity  Domestic Equity  World Equity  Hybrid  Total Bond  \\\n",
       "Date                                                                          \n",
       "2011-10-31        -18387         -16805.0         -1582  3188.0        8688   \n",
       "2011-11-30             0              0.0             0     0.0           0   \n",
       "2011-12-31        -23657         -16659.0         -6999  2395.0       13817   \n",
       "2012-01-31             0              0.0             0     0.0           0   \n",
       "2012-02-29             0              0.0             0     0.0           0   \n",
       "\n",
       "            Taxable Bond  Municipal Bond   Total  \n",
       "Date                                              \n",
       "2011-10-31        6841.0            1849 -6510.0  \n",
       "2011-11-30           0.0               0     0.0  \n",
       "2011-12-31        9335.0            4483 -7443.0  \n",
       "2012-01-31           0.0               0     0.0  \n",
       "2012-02-29           0.0               0     0.0  "
      ]
     },
     "execution_count": 42,
     "metadata": {},
     "output_type": "execute_result"
    }
   ],
   "source": [
    "monthly_df = df.resample('ME').sum()\n",
    "monthly_df.head()\n"
   ]
  },
  {
   "cell_type": "markdown",
   "metadata": {},
   "source": [
    "### Step 9. You will notice that it filled the dataFrame with months that don't have any data with NaN. Let's drop these rows."
   ]
  },
  {
   "cell_type": "code",
   "execution_count": 41,
   "metadata": {
    "collapsed": false
   },
   "outputs": [
    {
     "data": {
      "text/html": [
       "<div>\n",
       "<style scoped>\n",
       "    .dataframe tbody tr th:only-of-type {\n",
       "        vertical-align: middle;\n",
       "    }\n",
       "\n",
       "    .dataframe tbody tr th {\n",
       "        vertical-align: top;\n",
       "    }\n",
       "\n",
       "    .dataframe thead th {\n",
       "        text-align: right;\n",
       "    }\n",
       "</style>\n",
       "<table border=\"1\" class=\"dataframe\">\n",
       "  <thead>\n",
       "    <tr style=\"text-align: right;\">\n",
       "      <th></th>\n",
       "      <th>Total Equity</th>\n",
       "      <th>Domestic Equity</th>\n",
       "      <th>World Equity</th>\n",
       "      <th>Hybrid</th>\n",
       "      <th>Total Bond</th>\n",
       "      <th>Taxable Bond</th>\n",
       "      <th>Municipal Bond</th>\n",
       "      <th>Total</th>\n",
       "    </tr>\n",
       "    <tr>\n",
       "      <th>Date</th>\n",
       "      <th></th>\n",
       "      <th></th>\n",
       "      <th></th>\n",
       "      <th></th>\n",
       "      <th></th>\n",
       "      <th></th>\n",
       "      <th></th>\n",
       "      <th></th>\n",
       "    </tr>\n",
       "  </thead>\n",
       "  <tbody>\n",
       "    <tr>\n",
       "      <th>2011-10-31</th>\n",
       "      <td>-18387</td>\n",
       "      <td>-16805.0</td>\n",
       "      <td>-1582</td>\n",
       "      <td>3188.0</td>\n",
       "      <td>8688</td>\n",
       "      <td>6841.0</td>\n",
       "      <td>1849</td>\n",
       "      <td>-6510.0</td>\n",
       "    </tr>\n",
       "    <tr>\n",
       "      <th>2011-11-30</th>\n",
       "      <td>0</td>\n",
       "      <td>0.0</td>\n",
       "      <td>0</td>\n",
       "      <td>0.0</td>\n",
       "      <td>0</td>\n",
       "      <td>0.0</td>\n",
       "      <td>0</td>\n",
       "      <td>0.0</td>\n",
       "    </tr>\n",
       "    <tr>\n",
       "      <th>2011-12-31</th>\n",
       "      <td>-23657</td>\n",
       "      <td>-16659.0</td>\n",
       "      <td>-6999</td>\n",
       "      <td>2395.0</td>\n",
       "      <td>13817</td>\n",
       "      <td>9335.0</td>\n",
       "      <td>4483</td>\n",
       "      <td>-7443.0</td>\n",
       "    </tr>\n",
       "    <tr>\n",
       "      <th>2012-01-31</th>\n",
       "      <td>0</td>\n",
       "      <td>0.0</td>\n",
       "      <td>0</td>\n",
       "      <td>0.0</td>\n",
       "      <td>0</td>\n",
       "      <td>0.0</td>\n",
       "      <td>0</td>\n",
       "      <td>0.0</td>\n",
       "    </tr>\n",
       "    <tr>\n",
       "      <th>2012-02-29</th>\n",
       "      <td>0</td>\n",
       "      <td>0.0</td>\n",
       "      <td>0</td>\n",
       "      <td>0.0</td>\n",
       "      <td>0</td>\n",
       "      <td>0.0</td>\n",
       "      <td>0</td>\n",
       "      <td>0.0</td>\n",
       "    </tr>\n",
       "  </tbody>\n",
       "</table>\n",
       "</div>"
      ],
      "text/plain": [
       "            Total Equity  Domestic Equity  World Equity  Hybrid  Total Bond  \\\n",
       "Date                                                                          \n",
       "2011-10-31        -18387         -16805.0         -1582  3188.0        8688   \n",
       "2011-11-30             0              0.0             0     0.0           0   \n",
       "2011-12-31        -23657         -16659.0         -6999  2395.0       13817   \n",
       "2012-01-31             0              0.0             0     0.0           0   \n",
       "2012-02-29             0              0.0             0     0.0           0   \n",
       "\n",
       "            Taxable Bond  Municipal Bond   Total  \n",
       "Date                                              \n",
       "2011-10-31        6841.0            1849 -6510.0  \n",
       "2011-11-30           0.0               0     0.0  \n",
       "2011-12-31        9335.0            4483 -7443.0  \n",
       "2012-01-31           0.0               0     0.0  \n",
       "2012-02-29           0.0               0     0.0  "
      ]
     },
     "execution_count": 41,
     "metadata": {},
     "output_type": "execute_result"
    }
   ],
   "source": [
    "monthly_df = df.resample('ME').sum().dropna(how='any') \n",
    "monthly_df.head()"
   ]
  },
  {
   "cell_type": "markdown",
   "metadata": {},
   "source": [
    "### Step 10. Good, now we have the monthly data. Now change the frequency to year."
   ]
  },
  {
   "cell_type": "code",
   "execution_count": 44,
   "metadata": {
    "collapsed": false
   },
   "outputs": [
    {
     "data": {
      "text/html": [
       "<div>\n",
       "<style scoped>\n",
       "    .dataframe tbody tr th:only-of-type {\n",
       "        vertical-align: middle;\n",
       "    }\n",
       "\n",
       "    .dataframe tbody tr th {\n",
       "        vertical-align: top;\n",
       "    }\n",
       "\n",
       "    .dataframe thead th {\n",
       "        text-align: right;\n",
       "    }\n",
       "</style>\n",
       "<table border=\"1\" class=\"dataframe\">\n",
       "  <thead>\n",
       "    <tr style=\"text-align: right;\">\n",
       "      <th></th>\n",
       "      <th>Total Equity</th>\n",
       "      <th>Domestic Equity</th>\n",
       "      <th>World Equity</th>\n",
       "      <th>Hybrid</th>\n",
       "      <th>Total Bond</th>\n",
       "      <th>Taxable Bond</th>\n",
       "      <th>Municipal Bond</th>\n",
       "      <th>Total</th>\n",
       "    </tr>\n",
       "    <tr>\n",
       "      <th>Date</th>\n",
       "      <th></th>\n",
       "      <th></th>\n",
       "      <th></th>\n",
       "      <th></th>\n",
       "      <th></th>\n",
       "      <th></th>\n",
       "      <th></th>\n",
       "      <th></th>\n",
       "    </tr>\n",
       "  </thead>\n",
       "  <tbody>\n",
       "    <tr>\n",
       "      <th>2011-12-31</th>\n",
       "      <td>-42044</td>\n",
       "      <td>-33464.0</td>\n",
       "      <td>-8581</td>\n",
       "      <td>5583.0</td>\n",
       "      <td>22505</td>\n",
       "      <td>16176.0</td>\n",
       "      <td>6332</td>\n",
       "      <td>-13953.0</td>\n",
       "    </tr>\n",
       "    <tr>\n",
       "      <th>2012-12-31</th>\n",
       "      <td>-23929</td>\n",
       "      <td>-22012.0</td>\n",
       "      <td>-1915</td>\n",
       "      <td>785.0</td>\n",
       "      <td>9828</td>\n",
       "      <td>12491.0</td>\n",
       "      <td>-2663</td>\n",
       "      <td>-13316.0</td>\n",
       "    </tr>\n",
       "    <tr>\n",
       "      <th>2013-12-31</th>\n",
       "      <td>8052</td>\n",
       "      <td>-5562.0</td>\n",
       "      <td>13615</td>\n",
       "      <td>4180.0</td>\n",
       "      <td>-24460</td>\n",
       "      <td>-14209.0</td>\n",
       "      <td>-10251</td>\n",
       "      <td>-12227.0</td>\n",
       "    </tr>\n",
       "    <tr>\n",
       "      <th>2014-12-31</th>\n",
       "      <td>-17011</td>\n",
       "      <td>-15124.0</td>\n",
       "      <td>-1887</td>\n",
       "      <td>-6141.0</td>\n",
       "      <td>-14400</td>\n",
       "      <td>-19014.0</td>\n",
       "      <td>4614</td>\n",
       "      <td>-37552.0</td>\n",
       "    </tr>\n",
       "    <tr>\n",
       "      <th>2015-12-31</th>\n",
       "      <td>-36337</td>\n",
       "      <td>-25116.0</td>\n",
       "      <td>-11221</td>\n",
       "      <td>-12474.0</td>\n",
       "      <td>-28678</td>\n",
       "      <td>-34571.0</td>\n",
       "      <td>5893</td>\n",
       "      <td>-77489.0</td>\n",
       "    </tr>\n",
       "  </tbody>\n",
       "</table>\n",
       "</div>"
      ],
      "text/plain": [
       "            Total Equity  Domestic Equity  World Equity   Hybrid  Total Bond  \\\n",
       "Date                                                                           \n",
       "2011-12-31        -42044         -33464.0         -8581   5583.0       22505   \n",
       "2012-12-31        -23929         -22012.0         -1915    785.0        9828   \n",
       "2013-12-31          8052          -5562.0         13615   4180.0      -24460   \n",
       "2014-12-31        -17011         -15124.0         -1887  -6141.0      -14400   \n",
       "2015-12-31        -36337         -25116.0        -11221 -12474.0      -28678   \n",
       "\n",
       "            Taxable Bond  Municipal Bond    Total  \n",
       "Date                                               \n",
       "2011-12-31       16176.0            6332 -13953.0  \n",
       "2012-12-31       12491.0           -2663 -13316.0  \n",
       "2013-12-31      -14209.0          -10251 -12227.0  \n",
       "2014-12-31      -19014.0            4614 -37552.0  \n",
       "2015-12-31      -34571.0            5893 -77489.0  "
      ]
     },
     "execution_count": 44,
     "metadata": {},
     "output_type": "execute_result"
    }
   ],
   "source": [
    "yearly_df = monthly_df.resample('YE').sum() \n",
    "yearly_df.head()"
   ]
  },
  {
   "cell_type": "markdown",
   "metadata": {},
   "source": [
    "### BONUS: Create your own question and answer it."
   ]
  },
  {
   "cell_type": "markdown",
   "metadata": {},
   "source": [
    "Identify top 5 weeks with the highest inflows for Equity funds in the dataset?"
   ]
  },
  {
   "cell_type": "code",
   "execution_count": 46,
   "metadata": {},
   "outputs": [
    {
     "name": "stdout",
     "output_type": "stream",
     "text": [
      "Top 5 Weeks for Equity Inflows:\n",
      "Date\n",
      "2024-07-17    54173\n",
      "2022-12-14    47630\n",
      "2024-03-13    46974\n",
      "2023-06-14    40456\n",
      "2024-06-26    40433\n",
      "Name: Total Equity, dtype: int64\n"
     ]
    }
   ],
   "source": [
    "equity_inflows = df[df['Total Equity'] > 0]['Total Equity']\n",
    "top_5_weeks = equity_inflows.nlargest(5) \n",
    "print(\"Top 5 Weeks for Equity Inflows:\")  \n",
    "print(top_5_weeks) "
   ]
  }
 ],
 "metadata": {
  "kernelspec": {
   "display_name": "Python 3",
   "language": "python",
   "name": "python3"
  },
  "language_info": {
   "codemirror_mode": {
    "name": "ipython",
    "version": 3
   },
   "file_extension": ".py",
   "mimetype": "text/x-python",
   "name": "python",
   "nbconvert_exporter": "python",
   "pygments_lexer": "ipython3",
   "version": "3.13.3"
  }
 },
 "nbformat": 4,
 "nbformat_minor": 0
}
