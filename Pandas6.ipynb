{
 "cells": [
  {
   "cell_type": "markdown",
   "metadata": {},
   "source": [
    "# Occupation"
   ]
  },
  {
   "cell_type": "markdown",
   "metadata": {},
   "source": [
    "### Introduction:\n",
    "\n",
    "Special thanks to: https://github.com/justmarkham for sharing the dataset and materials.\n",
    "\n",
    "### Step 1. Import the necessary libraries"
   ]
  },
  {
   "cell_type": "code",
   "execution_count": 1,
   "metadata": {
    "collapsed": false
   },
   "outputs": [],
   "source": [
    "import pandas as pd\n",
    "import numpy as np"
   ]
  },
  {
   "cell_type": "markdown",
   "metadata": {},
   "source": [
    "### Step 2. Import the dataset from this [address](https://raw.githubusercontent.com/justmarkham/DAT8/master/data/u.user). "
   ]
  },
  {
   "cell_type": "markdown",
   "metadata": {},
   "source": [
    "### Step 3. Assign it to a variable called users."
   ]
  },
  {
   "cell_type": "code",
   "execution_count": 3,
   "metadata": {
    "collapsed": false
   },
   "outputs": [
    {
     "name": "stdout",
     "output_type": "stream",
     "text": [
      "    user_id  age gender     occupation zip_code\n",
      "0         1   24      M     technician    85711\n",
      "1         2   53      F          other    94043\n",
      "2         3   23      M         writer    32067\n",
      "3         4   24      M     technician    43537\n",
      "4         5   33      F          other    15213\n",
      "5         6   42      M      executive    98101\n",
      "6         7   57      M  administrator    91344\n",
      "7         8   36      M  administrator    05201\n",
      "8         9   29      M        student    01002\n",
      "9        10   53      M         lawyer    90703\n",
      "10       11   39      F          other    30329\n",
      "11       12   28      F          other    06405\n",
      "12       13   47      M       educator    29206\n",
      "13       14   45      M      scientist    55106\n",
      "14       15   49      F       educator    97301\n",
      "15       16   21      M  entertainment    10309\n",
      "16       17   30      M     programmer    06355\n",
      "17       18   35      F          other    37212\n",
      "18       19   40      M      librarian    02138\n",
      "19       20   42      F      homemaker    95660\n",
      "20       21   26      M         writer    30068\n",
      "21       22   25      M         writer    40206\n",
      "22       23   30      F         artist    48197\n",
      "23       24   21      F         artist    94533\n",
      "24       25   39      M       engineer    55107\n"
     ]
    }
   ],
   "source": [
    "users='https://raw.githubusercontent.com/justmarkham/DAT8/master/data/u.user'\n",
    "df = pd.read_csv(users, sep='|')\n",
    "print(df.head(25))"
   ]
  },
  {
   "cell_type": "markdown",
   "metadata": {},
   "source": [
    "### Step 4. Discover what is the mean age per occupation"
   ]
  },
  {
   "cell_type": "code",
   "execution_count": 4,
   "metadata": {
    "collapsed": false
   },
   "outputs": [
    {
     "name": "stdout",
     "output_type": "stream",
     "text": [
      "occupation\n",
      "administrator    38.75\n",
      "artist           31.39\n",
      "doctor           43.57\n",
      "educator         42.01\n",
      "engineer         36.39\n",
      "entertainment    29.22\n",
      "executive        38.72\n",
      "healthcare       41.56\n",
      "homemaker        32.57\n",
      "lawyer           36.75\n",
      "librarian        40.00\n",
      "marketing        37.62\n",
      "none             26.56\n",
      "other            34.52\n",
      "programmer       33.12\n",
      "retired          63.07\n",
      "salesman         35.67\n",
      "scientist        35.55\n",
      "student          22.08\n",
      "technician       33.15\n",
      "writer           36.31\n",
      "Name: age, dtype: float64\n"
     ]
    }
   ],
   "source": [
    "mean_age_per_occupation = df.groupby('occupation')['age'].mean().round(2)\n",
    "print(mean_age_per_occupation)"
   ]
  },
  {
   "cell_type": "markdown",
   "metadata": {},
   "source": [
    "### Step 5. Discover the Male ratio per occupation and sort it from the most to the least"
   ]
  },
  {
   "cell_type": "code",
   "execution_count": 10,
   "metadata": {
    "collapsed": false
   },
   "outputs": [
    {
     "name": "stdout",
     "output_type": "stream",
     "text": [
      "       Occupation  Male Ratio\n",
      "0          doctor    1.000000\n",
      "1        engineer    0.970149\n",
      "2      technician    0.962963\n",
      "3         retired    0.928571\n",
      "4      programmer    0.909091\n",
      "5       executive    0.906250\n",
      "6       scientist    0.903226\n",
      "7   entertainment    0.888889\n",
      "8          lawyer    0.833333\n",
      "9        salesman    0.750000\n",
      "10       educator    0.726316\n",
      "11        student    0.693878\n",
      "12          other    0.657143\n",
      "13      marketing    0.615385\n",
      "14         writer    0.577778\n",
      "15           none    0.555556\n",
      "16  administrator    0.544304\n",
      "17         artist    0.535714\n",
      "18      librarian    0.431373\n",
      "19     healthcare    0.312500\n",
      "20      homemaker    0.142857\n"
     ]
    }
   ],
   "source": [
    "gender_counts = df.groupby(['occupation', 'gender']).size().unstack(fill_value=0)\n",
    "\n",
    "gender_counts['male_ratio'] = gender_counts['M'] / (gender_counts['M'] + gender_counts['F'])\n",
    "\n",
    "male_ratio_sorted = gender_counts['male_ratio'].sort_values(ascending=False)\n",
    "\n",
    "male_ratio_df = male_ratio_sorted.reset_index()\n",
    "male_ratio_df.columns = ['Occupation', 'Male Ratio']\n",
    "\n",
    "print(male_ratio_df)"
   ]
  },
  {
   "cell_type": "markdown",
   "metadata": {},
   "source": [
    "### Step 6. For each occupation, calculate the minimum and maximum ages"
   ]
  },
  {
   "cell_type": "code",
   "execution_count": 11,
   "metadata": {
    "collapsed": false
   },
   "outputs": [
    {
     "name": "stdout",
     "output_type": "stream",
     "text": [
      "       Occupation  Minimum Age  Maximum Age\n",
      "0   administrator           21           70\n",
      "1          artist           19           48\n",
      "2          doctor           28           64\n",
      "3        educator           23           63\n",
      "4        engineer           22           70\n",
      "5   entertainment           15           50\n",
      "6       executive           22           69\n",
      "7      healthcare           22           62\n",
      "8       homemaker           20           50\n",
      "9          lawyer           21           53\n",
      "10      librarian           23           69\n",
      "11      marketing           24           55\n",
      "12           none           11           55\n",
      "13          other           13           64\n",
      "14     programmer           20           63\n",
      "15        retired           51           73\n",
      "16       salesman           18           66\n",
      "17      scientist           23           55\n",
      "18        student            7           42\n",
      "19     technician           21           55\n",
      "20         writer           18           60\n"
     ]
    }
   ],
   "source": [
    "age_ranges = df.groupby('occupation')['age'].agg(['min', 'max'])\n",
    "\n",
    "age_ranges = age_ranges.reset_index()\n",
    "\n",
    "age_ranges.columns = ['Occupation', 'Minimum Age', 'Maximum Age']\n",
    "\n",
    "print(age_ranges)"
   ]
  },
  {
   "cell_type": "markdown",
   "metadata": {},
   "source": [
    "### Step 7. For each combination of occupation and gender, calculate the mean age"
   ]
  },
  {
   "cell_type": "code",
   "execution_count": 13,
   "metadata": {
    "collapsed": false
   },
   "outputs": [
    {
     "name": "stdout",
     "output_type": "stream",
     "text": [
      "       Occupation Gender  Mean Age\n",
      "0   administrator      F     40.64\n",
      "1   administrator      M     37.16\n",
      "2          artist      F     30.31\n",
      "3          artist      M     32.33\n",
      "4          doctor      M     43.57\n",
      "5        educator      F     39.12\n",
      "6        educator      M     43.10\n",
      "7        engineer      F     29.50\n",
      "8        engineer      M     36.60\n",
      "9   entertainment      F     31.00\n",
      "10  entertainment      M     29.00\n",
      "11      executive      F     44.00\n",
      "12      executive      M     38.17\n",
      "13     healthcare      F     39.82\n",
      "14     healthcare      M     45.40\n",
      "15      homemaker      F     34.17\n",
      "16      homemaker      M     23.00\n",
      "17         lawyer      F     39.50\n",
      "18         lawyer      M     36.20\n",
      "19      librarian      F     40.00\n",
      "20      librarian      M     40.00\n",
      "21      marketing      F     37.20\n",
      "22      marketing      M     37.88\n",
      "23           none      F     36.50\n",
      "24           none      M     18.60\n",
      "25          other      F     35.47\n",
      "26          other      M     34.03\n",
      "27     programmer      F     32.17\n",
      "28     programmer      M     33.22\n",
      "29        retired      F     70.00\n",
      "30        retired      M     62.54\n",
      "31       salesman      F     27.00\n",
      "32       salesman      M     38.56\n",
      "33      scientist      F     28.33\n",
      "34      scientist      M     36.32\n",
      "35        student      F     20.75\n",
      "36        student      M     22.67\n",
      "37     technician      F     38.00\n",
      "38     technician      M     32.96\n",
      "39         writer      F     37.63\n",
      "40         writer      M     35.35\n"
     ]
    }
   ],
   "source": [
    "mean_age = df.groupby(['occupation', 'gender'])['age'].mean().round(2)\n",
    "\n",
    "mean_age_df = mean_age.reset_index()\n",
    "mean_age_df.columns = ['Occupation', 'Gender', 'Mean Age'] \n",
    "\n",
    "print(mean_age_df)"
   ]
  },
  {
   "cell_type": "markdown",
   "metadata": {},
   "source": [
    "### Step 8.  For each occupation present the percentage of women and men"
   ]
  },
  {
   "cell_type": "code",
   "execution_count": 16,
   "metadata": {
    "collapsed": false
   },
   "outputs": [
    {
     "name": "stdout",
     "output_type": "stream",
     "text": [
      "       occupation  F_count  M_count  % Female  % Male\n",
      "0   administrator       36       43      45.6    54.4\n",
      "1          artist       13       15      46.4    53.6\n",
      "2          doctor        0        7       0.0   100.0\n",
      "3        educator       26       69      27.4    72.6\n",
      "4        engineer        2       65       3.0    97.0\n",
      "5   entertainment        2       16      11.1    88.9\n",
      "6       executive        3       29       9.4    90.6\n",
      "7      healthcare       11        5      68.8    31.2\n",
      "8       homemaker        6        1      85.7    14.3\n",
      "9          lawyer        2       10      16.7    83.3\n",
      "10      librarian       29       22      56.9    43.1\n",
      "11      marketing       10       16      38.5    61.5\n",
      "12           none        4        5      44.4    55.6\n",
      "13          other       36       69      34.3    65.7\n",
      "14     programmer        6       60       9.1    90.9\n",
      "15        retired        1       13       7.1    92.9\n",
      "16       salesman        3        9      25.0    75.0\n",
      "17      scientist        3       28       9.7    90.3\n",
      "18        student       60      136      30.6    69.4\n",
      "19     technician        1       26       3.7    96.3\n",
      "20         writer       19       26      42.2    57.8\n"
     ]
    }
   ],
   "source": [
    "result = pd.concat([gender_counts, gender_pcts], axis=1)\n",
    "result.columns = ['F_count', 'M_count', '% Female', '% Male']\n",
    "result.reset_index(inplace=True)\n",
    "print(result)"
   ]
  }
 ],
 "metadata": {
  "kernelspec": {
   "display_name": "Python 3",
   "language": "python",
   "name": "python3"
  },
  "language_info": {
   "codemirror_mode": {
    "name": "ipython",
    "version": 3
   },
   "file_extension": ".py",
   "mimetype": "text/x-python",
   "name": "python",
   "nbconvert_exporter": "python",
   "pygments_lexer": "ipython3",
   "version": "3.13.3"
  }
 },
 "nbformat": 4,
 "nbformat_minor": 0
}
